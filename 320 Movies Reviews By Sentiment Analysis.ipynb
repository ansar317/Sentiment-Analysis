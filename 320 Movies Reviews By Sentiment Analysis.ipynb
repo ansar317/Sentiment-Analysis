{
 "cells": [
  {
   "cell_type": "code",
   "execution_count": 16,
   "id": "ffb1014e",
   "metadata": {},
   "outputs": [],
   "source": [
    "# Import the necessary libraries\n",
    "import nltk\n",
    "from nltk.sentiment import SentimentIntensityAnalyzer\n",
    "import matplotlib.pyplot as plt\n",
    "from wordcloud import WordCloud\n",
    "import pandas as pd\n",
    "import numpy as np"
   ]
  },
  {
   "cell_type": "code",
   "execution_count": 17,
   "id": "740fb859",
   "metadata": {},
   "outputs": [
    {
     "name": "stderr",
     "output_type": "stream",
     "text": [
      "[nltk_data] Downloading package vader_lexicon to\n",
      "[nltk_data]     C:\\Users\\ansar\\AppData\\Roaming\\nltk_data...\n",
      "[nltk_data]   Package vader_lexicon is already up-to-date!\n"
     ]
    }
   ],
   "source": [
    "# Download NLTK's VADER lexicon\n",
    "nltk.download('vader_lexicon')\n",
    "# Initialize the sentiment analyzer\n",
    "sia = SentimentIntensityAnalyzer()"
   ]
  },
  {
   "cell_type": "code",
   "execution_count": 18,
   "id": "6f35c283",
   "metadata": {
    "scrolled": true
   },
   "outputs": [
    {
     "data": {
      "text/html": [
       "<div>\n",
       "<style scoped>\n",
       "    .dataframe tbody tr th:only-of-type {\n",
       "        vertical-align: middle;\n",
       "    }\n",
       "\n",
       "    .dataframe tbody tr th {\n",
       "        vertical-align: top;\n",
       "    }\n",
       "\n",
       "    .dataframe thead th {\n",
       "        text-align: right;\n",
       "    }\n",
       "</style>\n",
       "<table border=\"1\" class=\"dataframe\">\n",
       "  <thead>\n",
       "    <tr style=\"text-align: right;\">\n",
       "      <th></th>\n",
       "      <th>id number</th>\n",
       "      <th>Greek title</th>\n",
       "      <th>original title</th>\n",
       "      <th>category</th>\n",
       "      <th>director/creator</th>\n",
       "      <th>movie lenght</th>\n",
       "      <th>movie date</th>\n",
       "      <th>author</th>\n",
       "      <th>review date</th>\n",
       "      <th>review title</th>\n",
       "      <th>review</th>\n",
       "      <th>label</th>\n",
       "      <th>mean of stars</th>\n",
       "      <th>number of reviews</th>\n",
       "      <th>full reviews average stars</th>\n",
       "      <th>url</th>\n",
       "    </tr>\n",
       "  </thead>\n",
       "  <tbody>\n",
       "    <tr>\n",
       "      <th>0</th>\n",
       "      <td>0</td>\n",
       "      <td>Lekin...</td>\n",
       "      <td>Lekin...</td>\n",
       "      <td>Drama</td>\n",
       "      <td>Gulzar</td>\n",
       "      <td>2 hours 51 minutes</td>\n",
       "      <td>1990</td>\n",
       "      <td>dwnpiyush-336-40603</td>\n",
       "      <td>8 April 2012</td>\n",
       "      <td>For those who don't mind a slow pacing to the...</td>\n",
       "      <td>\"Yaara Sili Sili Virah Ki Raat Ka Jalna\"'Lekin...</td>\n",
       "      <td>8</td>\n",
       "      <td>9.16</td>\n",
       "      <td>6</td>\n",
       "      <td>7.5</td>\n",
       "      <td>https://www.imdb.com/title/tt00100002/?ref_=tt...</td>\n",
       "    </tr>\n",
       "    <tr>\n",
       "      <th>1</th>\n",
       "      <td>1</td>\n",
       "      <td>Lekin...</td>\n",
       "      <td>Lekin...</td>\n",
       "      <td>Drama</td>\n",
       "      <td>Gulzar</td>\n",
       "      <td>2 hours 51 minutes</td>\n",
       "      <td>1990</td>\n",
       "      <td>cseabhi</td>\n",
       "      <td>10 July 2021</td>\n",
       "      <td>Lekin - Gulzar's haunting masterpiece</td>\n",
       "      <td>Gulzar is at his best when he is telling such ...</td>\n",
       "      <td>9</td>\n",
       "      <td>9.16</td>\n",
       "      <td>6</td>\n",
       "      <td>7.5</td>\n",
       "      <td>https://www.imdb.com/title/tt00100002/?ref_=tt...</td>\n",
       "    </tr>\n",
       "    <tr>\n",
       "      <th>2</th>\n",
       "      <td>2</td>\n",
       "      <td>Lekin...</td>\n",
       "      <td>Lekin...</td>\n",
       "      <td>Drama</td>\n",
       "      <td>Gulzar</td>\n",
       "      <td>2 hours 51 minutes</td>\n",
       "      <td>1990</td>\n",
       "      <td>abbott32</td>\n",
       "      <td>2 July 2004</td>\n",
       "      <td>Haunting film but would love to have been abl...</td>\n",
       "      <td>I was completely mesmerized by Lekin and espec...</td>\n",
       "      <td>9</td>\n",
       "      <td>9.16</td>\n",
       "      <td>6</td>\n",
       "      <td>7.5</td>\n",
       "      <td>https://www.imdb.com/title/tt00100002/?ref_=tt...</td>\n",
       "    </tr>\n",
       "    <tr>\n",
       "      <th>3</th>\n",
       "      <td>3</td>\n",
       "      <td>Lekin...</td>\n",
       "      <td>Lekin...</td>\n",
       "      <td>Drama</td>\n",
       "      <td>Gulzar</td>\n",
       "      <td>2 hours 51 minutes</td>\n",
       "      <td>1990</td>\n",
       "      <td>monoglot</td>\n",
       "      <td>29 November 2005</td>\n",
       "      <td>An intriguing story well told.</td>\n",
       "      <td>Greatly enjoyed the development of the story l...</td>\n",
       "      <td>9</td>\n",
       "      <td>9.16</td>\n",
       "      <td>6</td>\n",
       "      <td>7.5</td>\n",
       "      <td>https://www.imdb.com/title/tt00100002/?ref_=tt...</td>\n",
       "    </tr>\n",
       "    <tr>\n",
       "      <th>4</th>\n",
       "      <td>4</td>\n",
       "      <td>Lekin...</td>\n",
       "      <td>Lekin...</td>\n",
       "      <td>Drama</td>\n",
       "      <td>Gulzar</td>\n",
       "      <td>2 hours 51 minutes</td>\n",
       "      <td>1990</td>\n",
       "      <td>Kammu</td>\n",
       "      <td>27 November 1999</td>\n",
       "      <td>It's a classic</td>\n",
       "      <td>The lines of time are very blurry. Past, prese...</td>\n",
       "      <td>10</td>\n",
       "      <td>9.16</td>\n",
       "      <td>6</td>\n",
       "      <td>7.5</td>\n",
       "      <td>https://www.imdb.com/title/tt00100002/?ref_=tt...</td>\n",
       "    </tr>\n",
       "  </tbody>\n",
       "</table>\n",
       "</div>"
      ],
      "text/plain": [
       "   id number Greek title original title category director/creator  \\\n",
       "0          0    Lekin...       Lekin...    Drama           Gulzar   \n",
       "1          1    Lekin...       Lekin...    Drama           Gulzar   \n",
       "2          2    Lekin...       Lekin...    Drama           Gulzar   \n",
       "3          3    Lekin...       Lekin...    Drama           Gulzar   \n",
       "4          4    Lekin...       Lekin...    Drama           Gulzar   \n",
       "\n",
       "         movie lenght movie date                author       review date  \\\n",
       "0  2 hours 51 minutes       1990   dwnpiyush-336-40603      8 April 2012   \n",
       "1  2 hours 51 minutes       1990               cseabhi      10 July 2021   \n",
       "2  2 hours 51 minutes       1990              abbott32       2 July 2004   \n",
       "3  2 hours 51 minutes       1990              monoglot  29 November 2005   \n",
       "4  2 hours 51 minutes       1990                 Kammu  27 November 1999   \n",
       "\n",
       "                                        review title  \\\n",
       "0   For those who don't mind a slow pacing to the...   \n",
       "1             Lekin - Gulzar's haunting masterpiece    \n",
       "2   Haunting film but would love to have been abl...   \n",
       "3                    An intriguing story well told.    \n",
       "4                                    It's a classic    \n",
       "\n",
       "                                              review  label  mean of stars  \\\n",
       "0  \"Yaara Sili Sili Virah Ki Raat Ka Jalna\"'Lekin...      8           9.16   \n",
       "1  Gulzar is at his best when he is telling such ...      9           9.16   \n",
       "2  I was completely mesmerized by Lekin and espec...      9           9.16   \n",
       "3  Greatly enjoyed the development of the story l...      9           9.16   \n",
       "4  The lines of time are very blurry. Past, prese...     10           9.16   \n",
       "\n",
       "   number of reviews  full reviews average stars  \\\n",
       "0                  6                         7.5   \n",
       "1                  6                         7.5   \n",
       "2                  6                         7.5   \n",
       "3                  6                         7.5   \n",
       "4                  6                         7.5   \n",
       "\n",
       "                                                 url  \n",
       "0  https://www.imdb.com/title/tt00100002/?ref_=tt...  \n",
       "1  https://www.imdb.com/title/tt00100002/?ref_=tt...  \n",
       "2  https://www.imdb.com/title/tt00100002/?ref_=tt...  \n",
       "3  https://www.imdb.com/title/tt00100002/?ref_=tt...  \n",
       "4  https://www.imdb.com/title/tt00100002/?ref_=tt...  "
      ]
     },
     "execution_count": 18,
     "metadata": {},
     "output_type": "execute_result"
    }
   ],
   "source": [
    "# Assuming 'IMDB_dataset_320.000_reviews.csv' is the correct file path\n",
    "df = pd.read_csv('IMDB_dataset_320.000_reviews.csv')\n",
    "\n",
    "# Display the first few rows of the DataFrame\n",
    "df.head()"
   ]
  },
  {
   "cell_type": "code",
   "execution_count": 19,
   "id": "5763409e",
   "metadata": {},
   "outputs": [
    {
     "data": {
      "text/plain": [
       "Index(['id number', 'Greek title', 'original title', 'category',\n",
       "       'director/creator', 'movie lenght', 'movie date', 'author',\n",
       "       'review date', 'review title', 'review', 'label', 'mean of stars',\n",
       "       'number of reviews', 'full reviews average stars', 'url'],\n",
       "      dtype='object')"
      ]
     },
     "execution_count": 19,
     "metadata": {},
     "output_type": "execute_result"
    }
   ],
   "source": [
    "df.columns"
   ]
  },
  {
   "cell_type": "code",
   "execution_count": 20,
   "id": "9bbb6330",
   "metadata": {},
   "outputs": [],
   "source": [
    "# Define a function to analyze the sentiment of a movie review\n",
    "def analyze_sentiment(review):\n",
    "    score = sia.polarity_scores(review)['compound']\n",
    "    return 'positive' if score >= 0 else 'negative'"
   ]
  },
  {
   "cell_type": "code",
   "execution_count": 21,
   "id": "54a97e8d",
   "metadata": {
    "scrolled": true
   },
   "outputs": [],
   "source": [
    "# list of movie reviews\n",
    "movie_reviews = df['review']"
   ]
  },
  {
   "cell_type": "code",
   "execution_count": 22,
   "id": "d9729015",
   "metadata": {},
   "outputs": [],
   "source": [
    "# Analyze the sentiment of each review\n",
    "sentiments = [analyze_sentiment(review) for review in movie_reviews]"
   ]
  },
  {
   "cell_type": "code",
   "execution_count": 39,
   "id": "b5c291f3",
   "metadata": {
    "scrolled": false
   },
   "outputs": [
    {
     "data": {
      "image/png": "[encoded data removed]",
      "text/plain": [
       "<Figure size 640x480 with 1 Axes>"
      ]
     },
     "metadata": {},
     "output_type": "display_data"
    }
   ],
   "source": [
    "# Visualize the sentiment distribution\n",
    "plt.bar(['Positive', 'Negative'], [positive_count, negative_count])\n",
    "plt.title('Sentiment Distribution of Movie Reviews')\n",
    "plt.xlabel('Sentiment')\n",
    "plt.ylabel('Count')\n",
    "plt.show()"
   ]
  },
  {
   "cell_type": "code",
   "execution_count": 44,
   "id": "88883ede",
   "metadata": {
    "scrolled": true
   },
   "outputs": [
    {
     "data": {
      "image/png": "[encoded data removed]",
      "text/plain": [
       "<Figure size 500x1000 with 1 Axes>"
      ]
     },
     "metadata": {},
     "output_type": "display_data"
    }
   ],
   "source": [
    "# Count the occurrences of each sentiment\n",
    "positive_count = sentiments.count('positive')\n",
    "negative_count = sentiments.count('negative')\n",
    "total_reviews = len(sentiments)\n",
    "\n",
    "# Calculate percentage of positive and negative sentiments\n",
    "positive_percentage = (positive_count / total_reviews) * 100\n",
    "negative_percentage = (negative_count / total_reviews) * 100\n",
    "\n",
    "# Plot the bar chart\n",
    "plt.figure(figsize=(5,10))\n",
    "plt.bar(['Positive', 'Negative'], [positive_count, negative_count], color='lightblue')\n",
    "plt.title('Sentiment Distribution of Movie Reviews')\n",
    "plt.xlabel('Sentiment')\n",
    "plt.ylabel('Count')\n",
    "\n",
    "# Add count and percentage values on top of the bars\n",
    "for i, count in enumerate([positive_count, negative_count]):\n",
    "    plt.text(i, count + 0.1, f'{count}\\n({(count / total_reviews) * 100:.2f}%)', ha='center', va='bottom')\n",
    "\n",
    "plt.show()"
   ]
  }
 ],
 "metadata": {
  "kernelspec": {
   "display_name": "Python 3 (ipykernel)",
   "language": "python",
   "name": "python3"
  },
  "language_info": {
   "codemirror_mode": {
    "name": "ipython",
    "version": 3
   },
   "file_extension": ".py",
   "mimetype": "text/x-python",
   "name": "python",
   "nbconvert_exporter": "python",
   "pygments_lexer": "ipython3",
   "version": "3.11.4"
  }
 },
 "nbformat": 4,
 "nbformat_minor": 5
}
